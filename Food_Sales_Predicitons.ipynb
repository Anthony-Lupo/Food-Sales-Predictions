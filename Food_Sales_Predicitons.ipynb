{
  "nbformat": 4,
  "nbformat_minor": 0,
  "metadata": {
    "colab": {
      "name": "Food-Sales-Predicitons.ipynb",
      "provenance": [],
      "mount_file_id": "16Wla3iVt5gIGNFPAYNiuXmgsIYigQoCl",
      "authorship_tag": "ABX9TyNOiE2mZd+ISu12hAUfTThg",
      "include_colab_link": true
    },
    "kernelspec": {
      "name": "python3",
      "display_name": "Python 3"
    },
    "language_info": {
      "name": "python"
    }
  },
  "cells": [
    {
      "cell_type": "markdown",
      "metadata": {
        "id": "view-in-github",
        "colab_type": "text"
      },
      "source": [
        "<a href=\"https://colab.research.google.com/github/alupo933/Food-Sales-Predictions/blob/main/Food_Sales_Predicitons.ipynb\" target=\"_parent\"><img src=\"https://colab.research.google.com/assets/colab-badge.svg\" alt=\"Open In Colab\"/></a>"
      ]
    },
    {
      "cell_type": "code",
      "metadata": {
        "colab": {
          "base_uri": "https://localhost:8080/"
        },
        "id": "xlHkICFqmkQY",
        "outputId": "cb939af3-2a14-4d66-9c33-dd109cf7809f"
      },
      "source": [
        "import pandas as pd\n",
        "df = pd.read_csv(\"/content/drive/MyDrive/Coding Dojo Data Science Boot Camp/01 Week 1 Python/sales_predictions.csv\")\n",
        "print(df)"
      ],
      "execution_count": 3,
      "outputs": [
        {
          "output_type": "stream",
          "name": "stdout",
          "text": [
            "     Item_Identifier  Item_Weight  ...        Outlet_Type  Item_Outlet_Sales\n",
            "0              FDA15        9.300  ...  Supermarket Type1          3735.1380\n",
            "1              DRC01        5.920  ...  Supermarket Type2           443.4228\n",
            "2              FDN15       17.500  ...  Supermarket Type1          2097.2700\n",
            "3              FDX07       19.200  ...      Grocery Store           732.3800\n",
            "4              NCD19        8.930  ...  Supermarket Type1           994.7052\n",
            "...              ...          ...  ...                ...                ...\n",
            "8518           FDF22        6.865  ...  Supermarket Type1          2778.3834\n",
            "8519           FDS36        8.380  ...  Supermarket Type1           549.2850\n",
            "8520           NCJ29       10.600  ...  Supermarket Type1          1193.1136\n",
            "8521           FDN46        7.210  ...  Supermarket Type2          1845.5976\n",
            "8522           DRG01       14.800  ...  Supermarket Type1           765.6700\n",
            "\n",
            "[8523 rows x 12 columns]\n"
          ]
        }
      ]
    }
  ]
}